{
  "nbformat": 4,
  "nbformat_minor": 0,
  "metadata": {
    "colab": {
      "provenance": [],
      "authorship_tag": "ABX9TyPMQG1gHx0+cVnRWWwgEarr",
      "include_colab_link": true
    },
    "kernelspec": {
      "name": "python3",
      "display_name": "Python 3"
    },
    "language_info": {
      "name": "python"
    }
  },
  "cells": [
    {
      "cell_type": "markdown",
      "metadata": {
        "id": "view-in-github",
        "colab_type": "text"
      },
      "source": [
        "<a href=\"https://colab.research.google.com/github/Aleksandra0001/DataScience/blob/main/HW5_1.ipynb\" target=\"_parent\"><img src=\"https://colab.research.google.com/assets/colab-badge.svg\" alt=\"Open In Colab\"/></a>"
      ]
    },
    {
      "cell_type": "markdown",
      "source": [
        "# Первая часть"
      ],
      "metadata": {
        "id": "y6N8vfyNcW3X"
      }
    },
    {
      "cell_type": "markdown",
      "source": [
        "Для прямоугольной области площадью 1000 м2, примыкающей к прямому участку реки, необходимо построить ограду (причем со стороны реки ограду строить не нужно). При каких размерах области a, b длина ограды будет минимальной? Используйте функцию minimize с параметрами ограничениями bounds и constraints"
      ],
      "metadata": {
        "id": "gleyFov4caKi"
      }
    },
    {
      "cell_type": "code",
      "source": [
        "from scipy.optimize import minimize"
      ],
      "metadata": {
        "id": "zvlN3NZThWNN"
      },
      "execution_count": null,
      "outputs": []
    },
    {
      "cell_type": "code",
      "source": [
        "S=1000"
      ],
      "metadata": {
        "id": "9YP2tLANcZCL"
      },
      "execution_count": null,
      "outputs": []
    },
    {
      "cell_type": "code",
      "source": [
        "def get_fence_len(args):\n",
        "  a, b = args\n",
        "  return 2*a+b"
      ],
      "metadata": {
        "id": "SyZwM8jajieU"
      },
      "execution_count": null,
      "outputs": []
    },
    {
      "cell_type": "code",
      "source": [
        "def get_cons(args): \n",
        "    a, b = args\n",
        "    return a*b-S"
      ],
      "metadata": {
        "id": "7ktHsZf1mP9_"
      },
      "execution_count": null,
      "outputs": []
    },
    {
      "cell_type": "code",
      "source": [
        "xbounds = (0, 1000)\n",
        "ybounds = (0, 1000)\n",
        "bounds = (xbounds, ybounds)\n",
        "\n",
        "cons = ({'type': 'ineq', 'fun': get_cons})\n",
        "\n",
        "result = minimize(get_fence_len, [1000,1], bounds=bounds, constraints=cons)\n",
        "result"
      ],
      "metadata": {
        "colab": {
          "base_uri": "https://localhost:8080/"
        },
        "id": "EM6fApbHi7kT",
        "outputId": "1b69042c-0209-495a-d444-e3bad85019fa"
      },
      "execution_count": null,
      "outputs": [
        {
          "output_type": "execute_result",
          "data": {
            "text/plain": [
              "     fun: 89.44271938260809\n",
              "     jac: array([2., 1.])\n",
              " message: 'Optimization terminated successfully'\n",
              "    nfev: 61\n",
              "     nit: 21\n",
              "    njev: 20\n",
              "  status: 0\n",
              " success: True\n",
              "       x: array([22.35890114, 44.72491711])"
            ]
          },
          "metadata": {},
          "execution_count": 29
        }
      ]
    }
  ]
}