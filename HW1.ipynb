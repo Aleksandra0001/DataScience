{
  "nbformat": 4,
  "nbformat_minor": 0,
  "metadata": {
    "colab": {
      "provenance": [],
      "include_colab_link": true
    },
    "kernelspec": {
      "name": "python3",
      "display_name": "Python 3"
    },
    "language_info": {
      "name": "python"
    }
  },
  "cells": [
    {
      "cell_type": "markdown",
      "metadata": {
        "id": "view-in-github",
        "colab_type": "text"
      },
      "source": [
        "<a href=\"https://colab.research.google.com/github/Aleksandra0001/DataScience/blob/main/HW1.ipynb\" target=\"_parent\"><img src=\"https://colab.research.google.com/assets/colab-badge.svg\" alt=\"Open In Colab\"/></a>"
      ]
    },
    {
      "cell_type": "code",
      "source": [
        "!pip install numpy"
      ],
      "metadata": {
        "id": "bA1IRUusbsky",
        "colab": {
          "base_uri": "https://localhost:8080/"
        },
        "outputId": "5fa621d2-6ed5-432c-dd87-698cad7d13db"
      },
      "execution_count": null,
      "outputs": [
        {
          "output_type": "stream",
          "name": "stdout",
          "text": [
            "Looking in indexes: https://pypi.org/simple, https://us-python.pkg.dev/colab-wheels/public/simple/\n",
            "Requirement already satisfied: numpy in /usr/local/lib/python3.8/dist-packages (1.21.6)\n"
          ]
        }
      ]
    },
    {
      "cell_type": "code",
      "source": [
        "import numpy as np"
      ],
      "metadata": {
        "id": "lbsWjb3tc1Zj"
      },
      "execution_count": null,
      "outputs": []
    },
    {
      "cell_type": "markdown",
      "source": [
        "1.Вкладчик положил 50000 условных единиц на три разных счета в три разных банка. По первому счету выплаты составят 5% годовых, по второму – 7% годовых и по третьему 6% годовых. Известно, что через год вкладчик получил по процентам сумму в 2250 у.е. с первого и второго банка и сумму в 1400 у.е. с первого и третьего банка. Сколько условных единиц он положил на каждый счет изначально?\n"
      ],
      "metadata": {
        "id": "ghhdJiiucQm3"
      }
    },
    {
      "cell_type": "code",
      "source": [
        "A = np.matrix(\"1, 1, 1; 0.05, 0.07, 0; 0.05, 0, 0.06\")\n",
        "b = np.array([50000, 2250, 1400])\n",
        "x = np.linalg.solve(A, b)\n",
        "x"
      ],
      "metadata": {
        "id": "euR-vP4ldi9a",
        "colab": {
          "base_uri": "https://localhost:8080/"
        },
        "outputId": "dd4ae8fc-279c-49f3-cf2e-032205ad1cf1"
      },
      "execution_count": null,
      "outputs": [
        {
          "output_type": "execute_result",
          "data": {
            "text/plain": [
              "array([10000., 25000., 15000.])"
            ]
          },
          "metadata": {},
          "execution_count": 29
        }
      ]
    },
    {
      "cell_type": "markdown",
      "source": [
        "2.На складе хранятся мобильные телефоны iPhone 6, iPhone 11, iPhone 12 моделей. Всего 1328 экземпляра. Моделей iPhone 6 на 120 меньше, чем моделей iPhone 11, и на 100 больше, чем моделей iPhone 12. Сколько моделей каждого вида на складе?"
      ],
      "metadata": {
        "id": "MZq5OBanuBdd"
      }
    },
    {
      "cell_type": "markdown",
      "source": [
        "x1+x2+x3=1328\n",
        "-x1+x2+0=120\n",
        "x1+0-x3=100"
      ],
      "metadata": {
        "id": "k8ovBJQivL6H"
      }
    },
    {
      "cell_type": "code",
      "source": [
        "A = np.matrix(\"1, 1, 1; -1, 1, 0; 1, 0, -1\")\n",
        "b = np.array([1358, 120, 100])\n",
        "x = np.linalg.solve(A, b)\n",
        "x"
      ],
      "metadata": {
        "colab": {
          "base_uri": "https://localhost:8080/"
        },
        "id": "yknmBNDdumDe",
        "outputId": "24c5a97f-9d7a-4f6c-a6b4-f0d4054a1fd3"
      },
      "execution_count": null,
      "outputs": [
        {
          "output_type": "execute_result",
          "data": {
            "text/plain": [
              "array([446., 566., 346.])"
            ]
          },
          "metadata": {},
          "execution_count": 34
        }
      ]
    },
    {
      "cell_type": "markdown",
      "source": [
        "3.Составьте каноническое уравнение эллипсоида, проходящего через три точки A, B и C: A(sqrt{3}; 0; sqrt{3}) B(sqrt(6); 0.5; 0) C(1; sqrt(3)^-1; 1)\n",
        "Каноническое уравнение эллипсоида в прямоугольной декартовой системе координат имеет вид: x^2/a^2 + y^2/b^2 + z^2/c^2 = 1 Задача состоит в определении параметров a^2, b^2 и c^2"
      ],
      "metadata": {
        "id": "S3yT2F7t4AvW"
      }
    },
    {
      "cell_type": "markdown",
      "source": [
        "*   d = 1/a^2\n",
        "*   e=1/b^2\n",
        "*   f=1/c^2"
      ],
      "metadata": {
        "id": "f4DRWLG6Iqgu"
      }
    },
    {
      "cell_type": "code",
      "source": [
        "A=np.array([[3, 0, 3],[6,0.25,0],[1,1/3, 1]])\n",
        "v=np.array([1,1,1])\n",
        "l=np.linalg.solve(A, v)\n",
        "result=1/l\n",
        "result"
      ],
      "metadata": {
        "colab": {
          "base_uri": "https://localhost:8080/"
        },
        "id": "PU0zmaN3GTCO",
        "outputId": "6219e62d-d6e3-41a4-c79e-678b21a892f3"
      },
      "execution_count": null,
      "outputs": [
        {
          "output_type": "execute_result",
          "data": {
            "text/plain": [
              "array([12. ,  0.5,  4. ])"
            ]
          },
          "metadata": {},
          "execution_count": 17
        }
      ]
    },
    {
      "cell_type": "markdown",
      "source": [
        "4.Составьте уравнение параболы проходящей через заданные три точки (1,12), (3,54), (-1,2). Необходимо найти коэффициенты уравнения a,b,ca,b,c\n",
        "\n",
        "y=a⋅x^2+b⋅x+c\n",
        "\n",
        "a+b+c=12\n",
        "\n",
        "9a+3b+c=54\n",
        "\n",
        "a-b+c=2\n"
      ],
      "metadata": {
        "id": "KKG-VBclJF4N"
      }
    },
    {
      "cell_type": "code",
      "source": [
        "B=np.matrix(\"1,1,1;9,3,1;1,-1,1\")\n",
        "g=np.array([12,54,2])\n",
        "res=np.linalg.solve(B, g)\n",
        "res"
      ],
      "metadata": {
        "colab": {
          "base_uri": "https://localhost:8080/"
        },
        "id": "xLNozVjlNh06",
        "outputId": "3332081e-12d6-4354-c83e-f63fc67de591"
      },
      "execution_count": null,
      "outputs": [
        {
          "output_type": "execute_result",
          "data": {
            "text/plain": [
              "array([4., 5., 3.])"
            ]
          },
          "metadata": {},
          "execution_count": 37
        }
      ]
    },
    {
      "cell_type": "markdown",
      "source": [
        "**5.Составьте функцию get_polynom, которая по набору точек вида (x1,y1),(x2,y2)**\n",
        "\n",
        ", ..., (x{n+1}, y{n+1})(x1 ,y1),(x2,y 2),…,(xn+1,yn+1) будет находить коэффициенты [многочлена](https://ru.wikipedia.org/wiki/%D0%9C%D0%BD%D0%BE%D0%B3%D0%BE%D1%87%D0%BB%D0%B5%D0%BD) ci. Таким образом функция принимает список кортежей с координатами и возвращает набор коэффициентов c0,ci,... cn c0,ci,…,cn\n",
        "​\n",
        "\n",
        "---\n",
        "\n",
        "\n"
      ],
      "metadata": {
        "id": "3-AyRbeXNp3d"
      }
    },
    {
      "cell_type": "code",
      "source": [
        "def get_polynom(coords):\n",
        "    # for i in reversed(range(len(coords))):\n",
        "    #   print(i)\n",
        "    A=np.matrix([[coord[0]**i for i in reversed(range(len(coords)))] for coord in coords])\n",
        "    v=np.array([coord[1] for coord in coords]) \n",
        "  \n",
        "    return np.linalg.solve(A, v)\n"
      ],
      "metadata": {
        "id": "w6z5PwffVwGF"
      },
      "execution_count": null,
      "outputs": []
    },
    {
      "cell_type": "code",
      "source": [
        "\n",
        "get_polynom([(1,12), (3,54), (-1,2)])"
      ],
      "metadata": {
        "colab": {
          "base_uri": "https://localhost:8080/"
        },
        "id": "_aS7T5NuXrc5",
        "outputId": "14eb1def-ed0c-4fe2-ce0e-7ae5968f9c21"
      },
      "execution_count": null,
      "outputs": [
        {
          "output_type": "execute_result",
          "data": {
            "text/plain": [
              "array([4., 5., 3.])"
            ]
          },
          "metadata": {},
          "execution_count": 103
        }
      ]
    },
    {
      "cell_type": "code",
      "source": [],
      "metadata": {
        "id": "KrZ5ssKo40tt"
      },
      "execution_count": null,
      "outputs": []
    }
  ]
}